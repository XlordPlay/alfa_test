{
 "cells": [
  {
   "cell_type": "code",
   "execution_count": 1,
   "metadata": {},
   "outputs": [],
   "source": [
    "import pandas as pd\n",
    "import numpy as np\n",
    "import onnx\n",
    "import onnxruntime as ort\n",
    "import skl2onnx\n",
    "from sklearn.linear_model import LassoCV\n",
    "from skl2onnx import convert_sklearn\n",
    "from skl2onnx.common.data_types import FloatTensorType\n",
    "from sklearn.model_selection import train_test_split\n",
    "from sklearn.preprocessing import StandardScaler\n",
    "from sklearn.ensemble import RandomForestClassifier\n",
    "from sklearn.linear_model import LogisticRegression\n",
    "from sklearn.neural_network import MLPClassifier\n",
    "from sklearn.metrics import roc_auc_score\n",
    "import joblib\n",
    "from sklearn.inspection import permutation_importance\n"
   ]
  },
  {
   "cell_type": "code",
   "execution_count": 2,
   "metadata": {},
   "outputs": [],
   "source": [
    "\n",
    "file_path = \"../../data/abt_em_transforme_updated.csv\"  \n",
    "df = pd.read_csv(file_path)"
   ]
  },
  {
   "cell_type": "code",
   "execution_count": 3,
   "metadata": {},
   "outputs": [],
   "source": [
    "target = \"cc_clos\"\n",
    "X = df.drop(columns=[target])\n",
    "y = df[target]"
   ]
  },
  {
   "cell_type": "code",
   "execution_count": 4,
   "metadata": {},
   "outputs": [
    {
     "name": "stdout",
     "output_type": "stream",
     "text": [
      "<class 'pandas.core.frame.DataFrame'>\n",
      "Index: 1278 entries, 2025 to 3017\n",
      "Data columns (total 72 columns):\n",
      " #   Column            Non-Null Count  Dtype  \n",
      "---  ------            --------------  -----  \n",
      " 0   customerID        1278 non-null   int64  \n",
      " 1   atm_trn_cnt_1     1278 non-null   int64  \n",
      " 2   atm_trn_cnt       1278 non-null   int64  \n",
      " 3   bt_trn_cnt_1      1278 non-null   int64  \n",
      " 4   bt_trn_cnt        1278 non-null   int64  \n",
      " 5   chq_trn_cnt_1     1278 non-null   int64  \n",
      " 6   chq_trn_cnt       1278 non-null   int64  \n",
      " 7   cc_trn_cnt_1      1278 non-null   int64  \n",
      " 8   cc_trn_cnt        1278 non-null   int64  \n",
      " 9   elt_trn_cnt_1     1278 non-null   int64  \n",
      " 10  elt_trn_cnt       1278 non-null   int64  \n",
      " 11  ht_trn_cnt_1      1278 non-null   int64  \n",
      " 12  ht_trn_cnt        1278 non-null   int64  \n",
      " 13  it_trn_cnt        1278 non-null   int64  \n",
      " 14  it_trn_cnt_1      1278 non-null   int64  \n",
      " 15  pos_trn_cnt_1     1278 non-null   int64  \n",
      " 16  pos_trn_cnt       1278 non-null   int64  \n",
      " 17  trd_trn_cnt_1     1278 non-null   int64  \n",
      " 18  trd_trn_cnt       1278 non-null   int64  \n",
      " 19  acc_credit        1278 non-null   int64  \n",
      " 20  acc_funds         1278 non-null   float64\n",
      " 21  arrear_ind        1278 non-null   int64  \n",
      " 22  cc_appr_amt       1278 non-null   int64  \n",
      " 23  cc_avg_bal        1278 non-null   float64\n",
      " 24  cc_avg_bal_1      1278 non-null   int64  \n",
      " 25  cc_min_bal        1278 non-null   float64\n",
      " 26  chq_acc_ind       1278 non-null   int64  \n",
      " 27  cust_age          1278 non-null   int64  \n",
      " 28  days_brtday       1278 non-null   int64  \n",
      " 29  cc_ea_open_mth    1278 non-null   int64  \n",
      " 30  sa_ea_open_mth    1278 non-null   int64  \n",
      " 31  tr_ea_open_mth    1278 non-null   int64  \n",
      " 32  enq_trn_cnt       1278 non-null   int64  \n",
      " 33  equity_amt        1278 non-null   float64\n",
      " 34  gender            1278 non-null   int64  \n",
      " 35  recency           1278 non-null   int64  \n",
      " 36  fol_l_clos_mth    1278 non-null   int64  \n",
      " 37  fol_l_open_mth    1278 non-null   int64  \n",
      " 38  reject            1278 non-null   int64  \n",
      " 39  sa_la_clos_mth    1278 non-null   int64  \n",
      " 40  sa_la_open_mth    1278 non-null   int64  \n",
      " 41  tr_la_clos_mth    1278 non-null   int64  \n",
      " 42  tr_la_open_mth    1278 non-null   int64  \n",
      " 43  cust_class        1278 non-null   int64  \n",
      " 44  dep_max_amt       1278 non-null   float64\n",
      " 45  ch_addr           1278 non-null   int64  \n",
      " 46  ch_marital        1278 non-null   int64  \n",
      " 47  npv_savings       1278 non-null   float64\n",
      " 48  npv_trans         1278 non-null   float64\n",
      " 49  depos_count       1278 non-null   int64  \n",
      " 50  joint_acc_cnt     1278 non-null   int64  \n",
      " 51  prod_count        1278 non-null   int64  \n",
      " 52  sav_acc_count     1278 non-null   int64  \n",
      " 53  tra_acc_count     1278 non-null   int64  \n",
      " 54  wthdr_count       1278 non-null   int64  \n",
      " 55  avg_bal           1278 non-null   float64\n",
      " 56  title             1278 non-null   int64  \n",
      " 57  eqity_secur       1278 non-null   float64\n",
      " 58  rel_age           1278 non-null   int64  \n",
      " 59  sav_avg_bal_1     1278 non-null   int64  \n",
      " 60  sav_avg_bal       1278 non-null   float64\n",
      " 61  avg_bal_1         1278 non-null   int64  \n",
      " 62  npv_total         1278 non-null   float64\n",
      " 63  tra_avg_bal_1     1278 non-null   int64  \n",
      " 64  tra_avg_bal       1278 non-null   float64\n",
      " 65  tr_min_bal        1278 non-null   float64\n",
      " 66  tra_auth_no       1278 non-null   int64  \n",
      " 67  tra_auth_yes      1278 non-null   int64  \n",
      " 68  call_enq_cnt      1278 non-null   int64  \n",
      " 69  call_trn_cnt_1    1278 non-null   int64  \n",
      " 70  call_trn_cnt      1278 non-null   int64  \n",
      " 71  Change_In_ATM_TR  1278 non-null   float64\n",
      "dtypes: float64(14), int64(58)\n",
      "memory usage: 728.9 KB\n"
     ]
    }
   ],
   "source": [
    "X_train, X_test, y_train, y_test = train_test_split(X, y, test_size=0.3, random_state=42, stratify=y)\n",
    "\n",
    "X_test.info()\n",
    "\n"
   ]
  },
  {
   "cell_type": "code",
   "execution_count": 5,
   "metadata": {},
   "outputs": [],
   "source": [
    "scaler = StandardScaler()\n",
    "X_train = pd.DataFrame(scaler.fit_transform(X_train), columns=X.columns)\n",
    "X_test = pd.DataFrame(scaler.transform(X_test), columns=X.columns)"
   ]
  },
  {
   "cell_type": "code",
   "execution_count": 6,
   "metadata": {},
   "outputs": [
    {
     "name": "stdout",
     "output_type": "stream",
     "text": [
      "Permutation Importance (топ-20): [20 18 41 39 61 67 44 12 11  8 22 25 28 24 38 71  6 52 19 35]\n"
     ]
    }
   ],
   "source": [
    "#Selecting features by importance from Permutation Importance\n",
    "model_rf = RandomForestClassifier(n_estimators=100, random_state=42)\n",
    "model_rf.fit(X_train, y_train)\n",
    "perm_importance = permutation_importance(model_rf, X_train, y_train, scoring=\"roc_auc\", n_repeats=10, random_state=42)\n",
    "feature_importances_perm = perm_importance.importances_mean\n",
    "print(\"Permutation Importance (топ-20):\", np.argsort(feature_importances_perm)[-20:])"
   ]
  },
  {
   "cell_type": "code",
   "execution_count": 7,
   "metadata": {},
   "outputs": [
    {
     "name": "stdout",
     "output_type": "stream",
     "text": [
      "Permutation Importance.Top-20 features: ['acc_credit', 'trd_trn_cnt', 'sa_la_open_mth', 'reject', 'sav_avg_bal', 'tra_auth_no', 'cust_class', 'ht_trn_cnt', 'ht_trn_cnt_1', 'cc_trn_cnt', 'arrear_ind', 'cc_avg_bal_1', 'cust_age', 'cc_avg_bal', 'fol_l_open_mth', 'call_trn_cnt', 'chq_trn_cnt', 'prod_count', 'cc_clos', 'gender']\n"
     ]
    }
   ],
   "source": [
    "permutation_importance_mass = [20, 18, 41, 39, 61, 67, 44, 12, 11, 8, 22, 25, 28, 24, 38, 71, 6, 52, 19, 35]\n",
    "top_feature_names = df.columns[permutation_importance_mass].tolist()\n",
    "print(\"Permutation Importance.Top-20 features:\", top_feature_names)"
   ]
  },
  {
   "cell_type": "code",
   "execution_count": 8,
   "metadata": {},
   "outputs": [
    {
     "name": "stdout",
     "output_type": "stream",
     "text": [
      "RandomForest.Top-20 features: [65 61  7 44 28 42 38 33  0 51 58 23 48 25 24 62 20 29 19 35]\n"
     ]
    }
   ],
   "source": [
    "#Selecting features by importance from RandomForest\n",
    "feature_importances_rf = model_rf.feature_importances_\n",
    "print(\"RandomForest.Top-20 features:\", np.argsort(feature_importances_rf)[-20:])"
   ]
  },
  {
   "cell_type": "code",
   "execution_count": 9,
   "metadata": {},
   "outputs": [
    {
     "name": "stdout",
     "output_type": "stream",
     "text": [
      "Permutation Importance.Top-20 features: ['tra_avg_bal', 'sav_avg_bal', 'cc_trn_cnt_1', 'cust_class', 'cust_age', 'tr_la_clos_mth', 'fol_l_open_mth', 'enq_trn_cnt', 'customerID', 'joint_acc_cnt', 'eqity_secur', 'cc_appr_amt', 'npv_savings', 'cc_avg_bal_1', 'cc_avg_bal', 'avg_bal_1', 'acc_credit', 'days_brtday', 'cc_clos', 'gender']\n"
     ]
    }
   ],
   "source": [
    "rf_importance_mass = [65, 61, 7, 44, 28, 42, 38, 33, 0, 51, 58, 23, 48, 25, 24, 62, 20, 29, 19, 35]\n",
    "top_feature_names = df.columns[rf_importance_mass].tolist()\n",
    "print(\"Permutation Importance.Top-20 features:\", top_feature_names)"
   ]
  },
  {
   "cell_type": "code",
   "execution_count": 10,
   "metadata": {},
   "outputs": [
    {
     "name": "stderr",
     "output_type": "stream",
     "text": [
      "/home/xlordplay/alfa_test_tasks/alfa_test/venv/lib/python3.12/site-packages/sklearn/linear_model/_coordinate_descent.py:681: ConvergenceWarning: Objective did not converge. You might want to increase the number of iterations. Duality gap: 0.01961429205259435, tolerance: 0.010673825503355685\n",
      "  model = cd_fast.enet_coordinate_descent_gram(\n",
      "/home/xlordplay/alfa_test_tasks/alfa_test/venv/lib/python3.12/site-packages/sklearn/linear_model/_coordinate_descent.py:681: ConvergenceWarning: Objective did not converge. You might want to increase the number of iterations. Duality gap: 0.8690549025898093, tolerance: 0.010673825503355685\n",
      "  model = cd_fast.enet_coordinate_descent_gram(\n",
      "/home/xlordplay/alfa_test_tasks/alfa_test/venv/lib/python3.12/site-packages/sklearn/linear_model/_coordinate_descent.py:681: ConvergenceWarning: Objective did not converge. You might want to increase the number of iterations. Duality gap: 0.011069959438970045, tolerance: 0.010492449664429538\n",
      "  model = cd_fast.enet_coordinate_descent_gram(\n",
      "/home/xlordplay/alfa_test_tasks/alfa_test/venv/lib/python3.12/site-packages/sklearn/linear_model/_coordinate_descent.py:681: ConvergenceWarning: Objective did not converge. You might want to increase the number of iterations. Duality gap: 0.03496694783305543, tolerance: 0.010492449664429538\n",
      "  model = cd_fast.enet_coordinate_descent_gram(\n",
      "/home/xlordplay/alfa_test_tasks/alfa_test/venv/lib/python3.12/site-packages/sklearn/linear_model/_coordinate_descent.py:681: ConvergenceWarning: Objective did not converge. You might want to increase the number of iterations. Duality gap: 0.05781422858751739, tolerance: 0.010492449664429538\n",
      "  model = cd_fast.enet_coordinate_descent_gram(\n",
      "/home/xlordplay/alfa_test_tasks/alfa_test/venv/lib/python3.12/site-packages/sklearn/linear_model/_coordinate_descent.py:681: ConvergenceWarning: Objective did not converge. You might want to increase the number of iterations. Duality gap: 0.07595604292633595, tolerance: 0.010492449664429538\n",
      "  model = cd_fast.enet_coordinate_descent_gram(\n",
      "/home/xlordplay/alfa_test_tasks/alfa_test/venv/lib/python3.12/site-packages/sklearn/linear_model/_coordinate_descent.py:681: ConvergenceWarning: Objective did not converge. You might want to increase the number of iterations. Duality gap: 0.08928285070780362, tolerance: 0.010492449664429538\n",
      "  model = cd_fast.enet_coordinate_descent_gram(\n"
     ]
    },
    {
     "name": "stdout",
     "output_type": "stream",
     "text": [
      "Lasso Feature Importance (топ-20): [ 1 56 13 44 47 53 50 66 32 65 38  8 26 52 42 22 62 29 51 35]\n"
     ]
    },
    {
     "name": "stderr",
     "output_type": "stream",
     "text": [
      "/home/xlordplay/alfa_test_tasks/alfa_test/venv/lib/python3.12/site-packages/sklearn/linear_model/_coordinate_descent.py:681: ConvergenceWarning: Objective did not converge. You might want to increase the number of iterations. Duality gap: 0.013563083930094422, tolerance: 0.010492449664429538\n",
      "  model = cd_fast.enet_coordinate_descent_gram(\n",
      "/home/xlordplay/alfa_test_tasks/alfa_test/venv/lib/python3.12/site-packages/sklearn/linear_model/_coordinate_descent.py:681: ConvergenceWarning: Objective did not converge. You might want to increase the number of iterations. Duality gap: 0.4787981168365576, tolerance: 0.010492449664429538\n",
      "  model = cd_fast.enet_coordinate_descent_gram(\n"
     ]
    }
   ],
   "source": [
    "#Selecting features by LASSO\n",
    "lasso = LassoCV(cv=5).fit(X_train, y_train)\n",
    "feature_importances_lasso = np.abs(lasso.coef_)\n",
    "print(\"Lasso Feature Importance (топ-20):\", np.argsort(feature_importances_lasso)[-20:])"
   ]
  },
  {
   "cell_type": "code",
   "execution_count": 11,
   "metadata": {},
   "outputs": [
    {
     "name": "stdout",
     "output_type": "stream",
     "text": [
      "LASSO.Top-20 features: ['wthdr_count', 'cust_class', 'cc_trn_cnt_1', 'npv_total', 'tra_avg_bal', 'cc_appr_amt', 'fol_l_open_mth', 'eqity_secur', 'cust_age', 'sav_avg_bal', 'joint_acc_cnt', 'customerID', 'cc_avg_bal_1', 'cc_avg_bal', 'npv_savings', 'avg_bal_1', 'acc_credit', 'days_brtday', 'cc_clos', 'gender']\n"
     ]
    }
   ],
   "source": [
    "lasso_importance_mass = [1, 56, 13, 44, 47, 53, 50, 66, 32, 65, 38, 8, 26, 52, 42, 22, 62, 29, 51, 35]\n",
    "top_feature_names = df.columns[rf_importance_mass].tolist()\n",
    "print(\"LASSO.Top-20 features:\", top_feature_names)"
   ]
  },
  {
   "cell_type": "code",
   "execution_count": 13,
   "metadata": {},
   "outputs": [],
   "source": [
    "feature_scores = feature_importances_perm + feature_importances_rf + feature_importances_lasso\n"
   ]
  },
  {
   "cell_type": "code",
   "execution_count": 14,
   "metadata": {},
   "outputs": [
    {
     "name": "stdout",
     "output_type": "stream",
     "text": [
      "Features to use: ['equity_amt', 'cc_trn_cnt_1', 'rel_age', 'cc_trn_cnt', 'cc_avg_bal', 'dep_max_amt', 'cc_appr_amt', 'customerID', 'tr_min_bal', 'npv_trans', 'reject', 'cc_min_bal', 'cc_avg_bal_1', 'tr_la_open_mth', 'acc_funds', 'npv_total', 'acc_credit', 'prod_count', 'cc_ea_open_mth', 'recency']\n"
     ]
    }
   ],
   "source": [
    "important_features = np.argsort(feature_scores)[-20:]\n",
    "selected_features = X_train.columns[important_features]\n",
    "print(\"Features to use:\", selected_features.tolist())"
   ]
  },
  {
   "cell_type": "code",
   "execution_count": 15,
   "metadata": {},
   "outputs": [],
   "source": [
    "X_train = X_train[selected_features]\n",
    "X_test = X_test[selected_features]"
   ]
  },
  {
   "cell_type": "code",
   "execution_count": 16,
   "metadata": {},
   "outputs": [],
   "source": [
    "#models\n",
    "models = {\n",
    "    \"RandomForest\": RandomForestClassifier(n_estimators=100, random_state=42),\n",
    "    \"LogisticRegression\": LogisticRegression(max_iter=1000),\n",
    "    \"MLPClassifier\": MLPClassifier(hidden_layer_sizes=(50, 20), max_iter=500, random_state=42)\n",
    "}"
   ]
  },
  {
   "cell_type": "code",
   "execution_count": 17,
   "metadata": {},
   "outputs": [],
   "source": [
    "results = {}"
   ]
  },
  {
   "cell_type": "code",
   "execution_count": 18,
   "metadata": {},
   "outputs": [],
   "source": [
    "onnx_output_dir = \"../src/onnx/\""
   ]
  },
  {
   "cell_type": "code",
   "execution_count": 19,
   "metadata": {},
   "outputs": [
    {
     "name": "stdout",
     "output_type": "stream",
     "text": [
      "RandomForest: GINI = 0.8751, ROC-AUC = 0.9376, F1-Score = 0.6222\n",
      "Model RandomForest saved as ../src/onnx/RandomForest.onnx\n",
      "LogisticRegression: GINI = 0.6422, ROC-AUC = 0.8211, F1-Score = 0.0656\n",
      "Model LogisticRegression saved as ../src/onnx/LogisticRegression.onnx\n",
      "MLPClassifier: GINI = 0.6713, ROC-AUC = 0.8357, F1-Score = 0.3093\n",
      "Model MLPClassifier saved as ../src/onnx/MLPClassifier.onnx\n"
     ]
    }
   ],
   "source": [
    "from sklearn.metrics import f1_score\n",
    "\n",
    "for name, model in models.items():\n",
    "    model.fit(X_train, y_train)\n",
    "    y_pred = model.predict_proba(X_test)[:, 1]\n",
    "    \n",
    "    gini = 2 * roc_auc_score(y_test, y_pred) - 1\n",
    "    roc_auc = roc_auc_score(y_test, y_pred)\n",
    "    f1 = f1_score(y_test, (y_pred > 0.5).astype(int))\n",
    "    \n",
    "    results[name] = {\"GINI\": gini, \"ROC-AUC\": roc_auc, \"F1-Score\": f1}\n",
    "    print(f\"{name}: GINI = {gini:.4f}, ROC-AUC = {roc_auc:.4f}, F1-Score = {f1:.4f}\")\n",
    "    \n",
    "    # ONNX for inference\n",
    "    initial_type = [(\"float_input\", FloatTensorType([None, X_train.shape[1]]))]\n",
    "    onnx_model = convert_sklearn(model, initial_types=initial_type)\n",
    "\n",
    "    onnx_filename = f\"{onnx_output_dir}{name}.onnx\"  \n",
    "    with open(onnx_filename, \"wb\") as f:\n",
    "        f.write(onnx_model.SerializeToString())\n",
    "    print(f\"Model {name} saved as {onnx_filename}\")"
   ]
  },
  {
   "cell_type": "code",
   "execution_count": 20,
   "metadata": {},
   "outputs": [
    {
     "name": "stdout",
     "output_type": "stream",
     "text": [
      "The best model: RandomForest with GINI = 0.8751\n"
     ]
    }
   ],
   "source": [
    "#Because of the class disbalance, the best model is RF\n",
    "best_model = max(results, key=lambda x: results[x][\"GINI\"])\n",
    "print(f\"The best model: {best_model} with GINI = {results[best_model]['GINI']:.4f}\")"
   ]
  },
  {
   "cell_type": "code",
   "execution_count": 39,
   "metadata": {},
   "outputs": [
    {
     "name": "stdout",
     "output_type": "stream",
     "text": [
      "RandomForest Cross-Validation ROC-AUC: 0.9992 ± 0.0004\n",
      "Optimal threshold: 0.2752719251990529\n",
      "RandomForest: GINI = 0.8829, ROC-AUC = 0.9415, F1-Score = 0.5683 , Accuracy = 0.9382 , Recall = 0.8814 , Precision = 0.4194\n",
      "Model RandomForest saved as ../src/onnx/RandomForest.onnx\n"
     ]
    }
   ],
   "source": [
    "from sklearn.metrics import accuracy_score\n",
    "from sklearn.metrics import f1_score,recall_score,precision_score,roc_curve\n",
    "from imblearn.over_sampling import SMOTE\n",
    "from sklearn.model_selection import cross_val_score\n",
    "\n",
    "smote = SMOTE(random_state=42)\n",
    "X_train_resampled, y_train_resampled = smote.fit_resample(X_train, y_train)\n",
    "\n",
    "models = {\n",
    "    \"RandomForest\": RandomForestClassifier(n_estimators=300, max_depth=15, min_samples_split=2, min_samples_leaf=1, random_state=42 ,class_weight=\"balanced\"),\n",
    "}\n",
    "for name, model in models.items():\n",
    "\n",
    "    cv_scores = cross_val_score(model, X_train_resampled, y_train_resampled, cv=5, scoring='roc_auc')  \n",
    "    print(f\"{name} Cross-Validation ROC-AUC: {np.mean(cv_scores):.4f} ± {np.std(cv_scores):.4f}\")\n",
    "    \n",
    "    model.fit(X_train_resampled, y_train_resampled)\n",
    "    y_pred = model.predict_proba(X_test)[:, 1]\n",
    "\n",
    "    fpr, tpr, thresholds = roc_curve(y_test, y_pred)\n",
    "    optimal_idx = np.argmax(tpr - fpr)\n",
    "    threshold = thresholds[optimal_idx]\n",
    "    print(f\"Optimal threshold: {threshold}\")\n",
    "\n",
    "    gini = 2 * roc_auc_score(y_test, y_pred) - 1\n",
    "    roc_auc = roc_auc_score(y_test, y_pred)\n",
    "    f1 = f1_score(y_test, (y_pred > threshold).astype(int))\n",
    "    acc = accuracy_score(y_test, (y_pred > threshold).astype(int))\n",
    "    rec = recall_score(y_test,(y_pred> threshold).astype(int))\n",
    "    prec = precision_score(y_test,(y_pred> threshold).astype(int))\n",
    "    \n",
    "    results[name] = {\"GINI\": gini, \"ROC-AUC\": roc_auc, \"F1-Score\": f1 , \"Accuracy\": acc,\"Recall\": rec, \"Precision\" : prec}\n",
    "    print(f\"{name}: GINI = {gini:.4f}, ROC-AUC = {roc_auc:.4f}, F1-Score = {f1:.4f} , Accuracy = {acc:.4f} , Recall = {rec:.4f} , Precision = {prec:.4f}\")\n",
    "\n",
    "    # ONNX for inference\n",
    "    initial_type = [(\"float_input\", FloatTensorType([None, X_train.shape[1]]))]\n",
    "    onnx_model = convert_sklearn(model, initial_types=initial_type)\n",
    "\n",
    "    onnx_filename = f\"{onnx_output_dir}{name}.onnx\"  \n",
    "    with open(onnx_filename, \"wb\") as f:\n",
    "        f.write(onnx_model.SerializeToString())\n",
    "    print(f\"Model {name} saved as {onnx_filename}\")"
   ]
  },
  {
   "cell_type": "code",
   "execution_count": 127,
   "metadata": {},
   "outputs": [
    {
     "data": {
      "text/plain": [
       "'\\n    The high ROC-AUC values in both cross-validation and testing indicate \\n    that the metrics are not wrong and the model indeed performs well\\n'"
      ]
     },
     "execution_count": 127,
     "metadata": {},
     "output_type": "execute_result"
    }
   ],
   "source": [
    "\"\"\"\n",
    "    I emphasized recall because this metric shows how well the model detects customers who will actually leave. \n",
    "    This is important so that you don't miss out on customers who need retention.\n",
    "    Even if it requires a little more resources\n",
    "    \n",
    "    The high ROC-AUC values in both cross-validation and testing indicate \n",
    "    that the metrics are not wrong and the model indeed performs well\n",
    "\"\"\""
   ]
  },
  {
   "cell_type": "code",
   "execution_count": 40,
   "metadata": {},
   "outputs": [
    {
     "name": "stdout",
     "output_type": "stream",
     "text": [
      "Лучшая модель: RandomForest с GINI = 0.8829\n"
     ]
    }
   ],
   "source": [
    "\n",
    "best_model = max(results, key=lambda x: results[x][\"GINI\"])\n",
    "print(f\"Лучшая модель: {best_model} с GINI = {results[best_model]['GINI']:.4f}\")"
   ]
  },
  {
   "cell_type": "code",
   "execution_count": 41,
   "metadata": {},
   "outputs": [],
   "source": [
    "import json\n",
    "with open(\"../src/onnx/selected_features.json\", \"w\") as f:\n",
    "    json.dump(selected_features.tolist(), f)\n"
   ]
  },
  {
   "cell_type": "code",
   "execution_count": 131,
   "metadata": {},
   "outputs": [
    {
     "data": {
      "text/plain": [
       "\"\\n    Let's save the list of features for future use in the inference\\n    \\n\""
      ]
     },
     "execution_count": 131,
     "metadata": {},
     "output_type": "execute_result"
    }
   ],
   "source": [
    "\"\"\"\n",
    "    Let's save the list of features for future use in the inference\n",
    "    \n",
    "\"\"\""
   ]
  }
 ],
 "metadata": {
  "kernelspec": {
   "display_name": "venv",
   "language": "python",
   "name": "python3"
  },
  "language_info": {
   "codemirror_mode": {
    "name": "ipython",
    "version": 3
   },
   "file_extension": ".py",
   "mimetype": "text/x-python",
   "name": "python",
   "nbconvert_exporter": "python",
   "pygments_lexer": "ipython3",
   "version": "3.12.3"
  }
 },
 "nbformat": 4,
 "nbformat_minor": 2
}
